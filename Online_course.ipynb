{
 "cells": [
  {
   "cell_type": "code",
   "execution_count": 16,
   "id": "ab537054",
   "metadata": {},
   "outputs": [],
   "source": [
    "import pandas as pd\n",
    "import sklearn\n",
    "import numpy as np\n",
    "%matplotlib inline\n",
    "import matplotlib\n",
    "import matplotlib.pyplot  as plt"
   ]
  },
  {
   "cell_type": "markdown",
   "id": "7d537964",
   "metadata": {},
   "source": [
    "###  Machine Learning\n",
    "\n",
    "####  Familiarising ourselves with the data\n",
    "\n",
    "In this programming task, we are going to be using the Breast Cancer Wisconsin Dataset. This includes data about different patients and the corresponding diagnosis. In particular, features are computed from a digitised image of a fine needle aspirate (FNA) of a breast mass. They describe characteristics of the cell nuclei present in the image. The diagnosis involves characterising the tumour as 'malignant' or 'benign' (labelled 0 and 1, respectively).\n",
    "\n",
    "This dataset is built in scikit-learn, just like the iris dataset that we saw in this weeks' programming task.\n",
    "\n",
    "We'll load the dataset and call it cancer_dataset."
   ]
  },
  {
   "cell_type": "code",
   "execution_count": 10,
   "id": "226353ab",
   "metadata": {},
   "outputs": [],
   "source": [
    "from sklearn.datasets import load_breast_cancer\n",
    "cancer_dataset = load_breast_cancer()"
   ]
  },
  {
   "cell_type": "markdown",
   "id": "ff7a8fbb",
   "metadata": {},
   "source": [
    "Note that, similarly to the iris_dataset object that we saw in this week's programming task, the cancer_dataset object that is returned by load_breast_cancer is a Bunch object. By running the next cell, you will see that its structure is very similar to that of the iris_dataset object."
   ]
  },
  {
   "cell_type": "code",
   "execution_count": 11,
   "id": "c4e2bc76",
   "metadata": {},
   "outputs": [
    {
     "name": "stdout",
     "output_type": "stream",
     "text": [
      "Keys of cancer_dataset:  dict_keys(['data', 'target', 'frame', 'target_names', 'DESCR', 'feature_names', 'filename'])\n"
     ]
    }
   ],
   "source": [
    "print(\"Keys of cancer_dataset: \", cancer_dataset.keys())"
   ]
  },
  {
   "cell_type": "markdown",
   "id": "f418faa2",
   "metadata": {},
   "source": [
    "Optional: If you are interested in exploring the cancer_dataset object (e.g. its feature names, target names, etc.), then write your code in the following cell and run it. Remember that you can add more cells if you wish to."
   ]
  },
  {
   "cell_type": "code",
   "execution_count": 12,
   "id": "4885598c",
   "metadata": {},
   "outputs": [
    {
     "name": "stdout",
     "output_type": "stream",
     "text": [
      "[[1.799e+01 1.038e+01 1.228e+02 ... 2.654e-01 4.601e-01 1.189e-01]\n",
      " [2.057e+01 1.777e+01 1.329e+02 ... 1.860e-01 2.750e-01 8.902e-02]\n",
      " [1.969e+01 2.125e+01 1.300e+02 ... 2.430e-01 3.613e-01 8.758e-02]\n",
      " ...\n",
      " [1.660e+01 2.808e+01 1.083e+02 ... 1.418e-01 2.218e-01 7.820e-02]\n",
      " [2.060e+01 2.933e+01 1.401e+02 ... 2.650e-01 4.087e-01 1.240e-01]\n",
      " [7.760e+00 2.454e+01 4.792e+01 ... 0.000e+00 2.871e-01 7.039e-02]]\n"
     ]
    }
   ],
   "source": [
    "print(cancer_dataset.data)"
   ]
  },
  {
   "cell_type": "markdown",
   "id": "f111f7b2",
   "metadata": {},
   "source": [
    "### Question\n",
    "\n",
    "Write your code in the next cell to get the shape of the data part of the cancer_dataset."
   ]
  },
  {
   "cell_type": "code",
   "execution_count": 13,
   "id": "bb0fb8d8",
   "metadata": {},
   "outputs": [
    {
     "data": {
      "text/plain": [
       "(569, 30)"
      ]
     },
     "execution_count": 13,
     "metadata": {},
     "output_type": "execute_result"
    }
   ],
   "source": [
    "cancer_dataset.data.shape"
   ]
  },
  {
   "cell_type": "markdown",
   "id": "23ea0daa",
   "metadata": {},
   "source": [
    "### Splitting our dataset into training data and test data"
   ]
  },
  {
   "cell_type": "code",
   "execution_count": 21,
   "id": "4043c9df",
   "metadata": {},
   "outputs": [],
   "source": [
    "from sklearn.model_selection import train_test_split\n",
    "X_train, X_test, y_train, y_test = train_test_split(\n",
    "    cancer_dataset['data'], cancer_dataset['target'], random_state=0)"
   ]
  },
  {
   "cell_type": "markdown",
   "id": "2a50b4f4",
   "metadata": {},
   "source": [
    "### K Nearest Neighbours\n",
    "\n",
    "We will now learn how to build a classification model for the breast cancer dataset with the use of the k nearest neighbours algorithm.\n",
    "\n",
    "##### Building and evaluating the model for 1 nearest neighbour\n",
    "\n",
    "Run the code below to create a KNeighborsClassifier model called knn_model. Note that n_neighbors=1 is setting the number of nearest neighbours to 1."
   ]
  },
  {
   "cell_type": "code",
   "execution_count": 22,
   "id": "49408b77",
   "metadata": {},
   "outputs": [
    {
     "data": {
      "text/plain": [
       "KNeighborsClassifier(n_neighbors=1)"
      ]
     },
     "execution_count": 22,
     "metadata": {},
     "output_type": "execute_result"
    }
   ],
   "source": [
    "from sklearn.neighbors import KNeighborsClassifier\n",
    "knn_model = KNeighborsClassifier(n_neighbors=1)\n",
    "knn_model.fit(X_train, y_train)"
   ]
  },
  {
   "cell_type": "code",
   "execution_count": 23,
   "id": "bca7a49d",
   "metadata": {},
   "outputs": [
    {
     "name": "stdout",
     "output_type": "stream",
     "text": [
      "Test set score:0.916\n"
     ]
    }
   ],
   "source": [
    "print(\"Test set score:{:.3f}\".format(knn_model.score(X_test, y_test)))"
   ]
  },
  {
   "cell_type": "markdown",
   "id": "1d7b36c5",
   "metadata": {},
   "source": [
    "#### Write your code in the next cell(s) to build and evaluate a K Nearest Neighbours model for 5 neighbours."
   ]
  },
  {
   "cell_type": "code",
   "execution_count": 24,
   "id": "ad440091",
   "metadata": {},
   "outputs": [
    {
     "data": {
      "text/plain": [
       "KNeighborsClassifier()"
      ]
     },
     "execution_count": 24,
     "metadata": {},
     "output_type": "execute_result"
    }
   ],
   "source": [
    "from sklearn.neighbors import KNeighborsClassifier\n",
    "knn_model = KNeighborsClassifier(n_neighbors=5)\n",
    "knn_model.fit(X_train, y_train)"
   ]
  },
  {
   "cell_type": "code",
   "execution_count": 25,
   "id": "2d29a48a",
   "metadata": {},
   "outputs": [
    {
     "name": "stdout",
     "output_type": "stream",
     "text": [
      "Test set score:0.937\n"
     ]
    }
   ],
   "source": [
    "print(\"Test set score:{:.3f}\".format(knn_model.score(X_test, y_test)))"
   ]
  },
  {
   "cell_type": "markdown",
   "id": "12a6e9fa",
   "metadata": {},
   "source": [
    "### Using the model to make predictions\n",
    "\n",
    "The following code specifies a previously unseen patient case."
   ]
  },
  {
   "cell_type": "code",
   "execution_count": 26,
   "id": "2b806fa1",
   "metadata": {},
   "outputs": [],
   "source": [
    "X_new = np.array([[\n",
    "  1.239e+01, 1.538e+01, 1.328e+02, 1.382e+03, 1.007e-01, 2.661e-01, 3.791e-01,\n",
    "  1.001e-01, 2.009e-01, 6.371e-02, 6.895e-01, 8.943e-01, 4.259e+00, 9.594e+01,\n",
    "  5.789e-03, 3.864e-02, 3.233e-02, 1.187e-02, 3.003e-02, 5.923e-03, 2.242e+01,\n",
    "  1.689e+01, 1.926e+02, 2.721e+03, 1.782e-01, 5.461e-01, 6.579e-01, 1.958e-01,\n",
    "  4.811e-01, 1.008e-01]])"
   ]
  },
  {
   "cell_type": "code",
   "execution_count": null,
   "id": "8ffda918",
   "metadata": {},
   "outputs": [],
   "source": []
  },
  {
   "cell_type": "markdown",
   "id": "a803e8fa",
   "metadata": {},
   "source": [
    "###  Decision Tree\n",
    "\n",
    "Use the training and test data specified in Section 2.2 to create a Decision Tree with maximal depth 5.\n",
    "\n",
    "Important note: You should set the random_state parameter of the DecisionTreeClassifier to 20."
   ]
  },
  {
   "cell_type": "code",
   "execution_count": 27,
   "id": "1dcf31c5",
   "metadata": {},
   "outputs": [
    {
     "data": {
      "text/plain": [
       "DecisionTreeClassifier(max_depth=5, random_state=20)"
      ]
     },
     "execution_count": 27,
     "metadata": {},
     "output_type": "execute_result"
    }
   ],
   "source": [
    "from sklearn.tree import DecisionTreeClassifier\n",
    "decision_model = DecisionTreeClassifier(random_state=20, max_depth=5)\n",
    "decision_model.fit(X_train, y_train)"
   ]
  },
  {
   "cell_type": "markdown",
   "id": "a02e4b35",
   "metadata": {},
   "source": [
    "#### Evaluate the accuracy of the decision tree that you just built."
   ]
  },
  {
   "cell_type": "code",
   "execution_count": 28,
   "id": "4a3f1250",
   "metadata": {},
   "outputs": [
    {
     "name": "stdout",
     "output_type": "stream",
     "text": [
      "Test set score:0.909\n"
     ]
    }
   ],
   "source": [
    "print(\"Test set score:{:.3f}\".format(decision_model.score(X_test, y_test)))"
   ]
  },
  {
   "cell_type": "markdown",
   "id": "5d0e238b",
   "metadata": {},
   "source": [
    "Write your code in the next cell(s) to use your decision tree model to make a prediction for the new patient case specified earlier in this notebook."
   ]
  },
  {
   "cell_type": "code",
   "execution_count": 29,
   "id": "449b02b2",
   "metadata": {},
   "outputs": [],
   "source": [
    "X_new = np.array([[\n",
    "  1.239e+01, 1.538e+01, 1.328e+02, 1.382e+03, 1.007e-01, 2.661e-01, 3.791e-01,\n",
    "  1.001e-01, 2.009e-01, 6.371e-02, 6.895e-01, 8.943e-01, 4.259e+00, 9.594e+01,\n",
    "  5.789e-03, 3.864e-02, 3.233e-02, 1.187e-02, 3.003e-02, 5.923e-03, 2.242e+01,\n",
    "  1.689e+01, 1.926e+02, 2.721e+03, 1.782e-01, 5.461e-01, 6.579e-01, 1.958e-01,\n",
    "  4.811e-01, 1.008e-01]])"
   ]
  },
  {
   "cell_type": "code",
   "execution_count": 33,
   "id": "c8351989",
   "metadata": {},
   "outputs": [
    {
     "data": {
      "text/plain": [
       "DecisionTreeClassifier(max_depth=2, random_state=20)"
      ]
     },
     "execution_count": 33,
     "metadata": {},
     "output_type": "execute_result"
    }
   ],
   "source": [
    "# from sklearn.cross_validation import train_test_split  #inplace of cross validation use model selections\n",
    "from sklearn.model_selection import train_test_split\n",
    "X_new, X_test, y_train, y_test = train_test_split(\n",
    "    cancer_dataset['data'], cancer_dataset['target'], random_state=0)\n",
    "\n",
    "\n",
    "from sklearn.tree import DecisionTreeClassifier\n",
    "decision_model = DecisionTreeClassifier(random_state=20, max_depth=2)\n",
    "decision_model.fit(X_new, y_train)"
   ]
  },
  {
   "cell_type": "code",
   "execution_count": 34,
   "id": "f0962380",
   "metadata": {},
   "outputs": [
    {
     "name": "stdout",
     "output_type": "stream",
     "text": [
      "Test set score:0.937\n"
     ]
    }
   ],
   "source": [
    "print(\"Test set score:{:.3f}\".format(decision_model.score(X_test, y_test)))"
   ]
  },
  {
   "cell_type": "code",
   "execution_count": null,
   "id": "75fec8ca",
   "metadata": {},
   "outputs": [],
   "source": []
  }
 ],
 "metadata": {
  "kernelspec": {
   "display_name": "Python 3",
   "language": "python",
   "name": "python3"
  },
  "language_info": {
   "codemirror_mode": {
    "name": "ipython",
    "version": 3
   },
   "file_extension": ".py",
   "mimetype": "text/x-python",
   "name": "python",
   "nbconvert_exporter": "python",
   "pygments_lexer": "ipython3",
   "version": "3.8.8"
  }
 },
 "nbformat": 4,
 "nbformat_minor": 5
}
