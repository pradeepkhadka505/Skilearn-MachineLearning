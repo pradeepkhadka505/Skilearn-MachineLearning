{
 "cells": [
  {
   "cell_type": "markdown",
   "id": "e09af1ab",
   "metadata": {},
   "source": [
    "#### How to access Pulic API data sets which are in online (open datasets)"
   ]
  },
  {
   "cell_type": "code",
   "execution_count": 1,
   "id": "3ea5bf95",
   "metadata": {},
   "outputs": [],
   "source": [
    "import requests\n",
    "import json"
   ]
  },
  {
   "cell_type": "code",
   "execution_count": 5,
   "id": "1f114dc8",
   "metadata": {},
   "outputs": [
    {
     "name": "stdout",
     "output_type": "stream",
     "text": [
      "[\n",
      "    {\n",
      "        \"fdcId\": 2353623,\n",
      "        \"description\": \"A Low-Starch and High-Fiber Diet Intervention Impacts the Microbial Community of Raw Bovine Milk\",\n",
      "        \"dataType\": \"Experimental\",\n",
      "        \"publicationDate\": \"2022-10-28\",\n",
      "        \"foodNutrients\": []\n",
      "    }\n",
      "]\n"
     ]
    }
   ],
   "source": [
    "foods = requests.get('https://api.nal.usda.gov/fdc/v1/foods/list? \\&pageSize=1&api_key=DEMO_KEY')\n",
    "print(json.dumps(foods.json(), indent=4))"
   ]
  },
  {
   "cell_type": "code",
   "execution_count": null,
   "id": "cab44d3b",
   "metadata": {},
   "outputs": [],
   "source": []
  },
  {
   "cell_type": "code",
   "execution_count": null,
   "id": "7c2edc9a",
   "metadata": {},
   "outputs": [],
   "source": []
  }
 ],
 "metadata": {
  "kernelspec": {
   "display_name": "Python 3",
   "language": "python",
   "name": "python3"
  },
  "language_info": {
   "codemirror_mode": {
    "name": "ipython",
    "version": 3
   },
   "file_extension": ".py",
   "mimetype": "text/x-python",
   "name": "python",
   "nbconvert_exporter": "python",
   "pygments_lexer": "ipython3",
   "version": "3.8.8"
  }
 },
 "nbformat": 4,
 "nbformat_minor": 5
}
