{
 "cells": [
  {
   "cell_type": "markdown",
   "id": "9deb0a79",
   "metadata": {},
   "source": [
    "#### Just use the scikit learn data sets \n",
    "###### and selections select machine learing model Logistic Models "
   ]
  },
  {
   "cell_type": "code",
   "execution_count": 16,
   "id": "63895530",
   "metadata": {},
   "outputs": [],
   "source": [
    "from sklearn.datasets import load_iris\n",
    "from sklearn.preprocessing import MinMaxScaler\n",
    "from sklearn.linear_model import LogisticRegression\n",
    "from sklearn.model_selection import train_test_split"
   ]
  },
  {
   "cell_type": "markdown",
   "id": "9192f5f1",
   "metadata": {},
   "source": [
    "#### Using Machine learing Pipeline for MinMaxScaller"
   ]
  },
  {
   "cell_type": "code",
   "execution_count": 19,
   "id": "223fe3c5",
   "metadata": {},
   "outputs": [],
   "source": [
    "from sklearn.pipeline import Pipeline\n"
   ]
  },
  {
   "cell_type": "markdown",
   "id": "ab92077e",
   "metadata": {},
   "source": [
    "#### MinMaxScaler\n",
    "\n",
    "### The Transformation is given by\n",
    "\n",
    "X_std = (X -X.min)/(X.max - X.min)\n",
    "\n",
    "X_scaled = X_std * (max-min) + min"
   ]
  },
  {
   "cell_type": "code",
   "execution_count": 20,
   "id": "4d99bf9f",
   "metadata": {},
   "outputs": [],
   "source": [
    "iris= load_iris()  # loading scikit learn iris datasets "
   ]
  },
  {
   "cell_type": "markdown",
   "id": "1b0f179d",
   "metadata": {},
   "source": [
    "### Features extractions & features selections "
   ]
  },
  {
   "cell_type": "code",
   "execution_count": 21,
   "id": "bcce391b",
   "metadata": {},
   "outputs": [],
   "source": [
    "X_train, X_test, y_train, y_test = train_test_split(iris.data, iris.target, test_size = 0.2, random_state=42) \n",
    "#here x represent the input for the mode and \n",
    "# y Represents the expected outcomes or label "
   ]
  },
  {
   "cell_type": "code",
   "execution_count": 22,
   "id": "0ef67944",
   "metadata": {},
   "outputs": [
    {
     "data": {
      "text/plain": [
       "Pipeline(steps=[('minmax', MinMaxScaler()), ('lr', LogisticRegression())])"
      ]
     },
     "execution_count": 22,
     "metadata": {},
     "output_type": "execute_result"
    }
   ],
   "source": [
    "pipe_lr = Pipeline([('minmax', MinMaxScaler()), ('lr', LogisticRegression())])\n",
    "pipe_lr.fit(X_train, y_train)"
   ]
  },
  {
   "cell_type": "code",
   "execution_count": 28,
   "id": "6f80a810",
   "metadata": {},
   "outputs": [],
   "source": [
    "score = pipe_lr.score(X_test, y_test)"
   ]
  },
  {
   "cell_type": "code",
   "execution_count": 30,
   "id": "949c011c",
   "metadata": {},
   "outputs": [
    {
     "name": "stdout",
     "output_type": "stream",
     "text": [
      "The Accuracy given by Logistic Regression Model 0.9666666666666667\n"
     ]
    }
   ],
   "source": [
    "print('The Accuracy given by Logistic Regression Model', score) #Results"
   ]
  },
  {
   "cell_type": "code",
   "execution_count": null,
   "id": "cd1baab7",
   "metadata": {},
   "outputs": [],
   "source": []
  }
 ],
 "metadata": {
  "kernelspec": {
   "display_name": "Python 3",
   "language": "python",
   "name": "python3"
  },
  "language_info": {
   "codemirror_mode": {
    "name": "ipython",
    "version": 3
   },
   "file_extension": ".py",
   "mimetype": "text/x-python",
   "name": "python",
   "nbconvert_exporter": "python",
   "pygments_lexer": "ipython3",
   "version": "3.8.8"
  }
 },
 "nbformat": 4,
 "nbformat_minor": 5
}
