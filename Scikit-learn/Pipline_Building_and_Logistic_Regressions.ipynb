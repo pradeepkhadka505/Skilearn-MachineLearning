{
 "cells": [
  {
   "cell_type": "markdown",
   "id": "cc60ef03",
   "metadata": {},
   "source": [
    "#### Just use the scikit learn data sets \n",
    "###### and selections select machine learing model Logistic Models "
   ]
  },
  {
   "cell_type": "code",
   "execution_count": 16,
   "id": "76bcd1bf",
   "metadata": {},
   "outputs": [],
   "source": [
    "from sklearn.datasets import load_iris\n",
    "from sklearn.preprocessing import MinMaxScaler\n",
    "from sklearn.linear_model import LogisticRegression\n",
    "from sklearn.model_selection import train_test_split"
   ]
  },
  {
   "cell_type": "markdown",
   "id": "511c3ab5",
   "metadata": {},
   "source": [
    "#### Using Machine learing Pipeline for MinMaxScaller"
   ]
  },
  {
   "cell_type": "code",
   "execution_count": 19,
   "id": "23a94338",
   "metadata": {},
   "outputs": [],
   "source": [
    "from sklearn.pipeline import Pipeline\n"
   ]
  },
  {
   "cell_type": "markdown",
   "id": "d97c11c6",
   "metadata": {},
   "source": [
    "#### MinMaxScaler\n",
    "\n",
    "### The Transformation is given by\n",
    "\n",
    "X_std = (X -X.min)/(X.max - X.min)\n",
    "\n",
    "X_scaled = X_std * (max-min) + min"
   ]
  },
  {
   "cell_type": "code",
   "execution_count": 20,
   "id": "a4435039",
   "metadata": {},
   "outputs": [],
   "source": [
    "iris= load_iris()  # loading scikit learn iris datasets "
   ]
  },
  {
   "cell_type": "markdown",
   "id": "d0c38ca5",
   "metadata": {},
   "source": [
    "### Features extractions & features selections "
   ]
  },
  {
   "cell_type": "code",
   "execution_count": 21,
   "id": "d46954d4",
   "metadata": {},
   "outputs": [],
   "source": [
    "X_train, X_test, y_train, y_test = train_test_split(iris.data, iris.target, test_size = 0.2, random_state=42) \n",
    "#here x represent the input for the mode and \n",
    "# y Represents the expected outcomes or label "
   ]
  },
  {
   "cell_type": "code",
   "execution_count": 22,
   "id": "f2fe3e71",
   "metadata": {},
   "outputs": [
    {
     "data": {
      "text/plain": [
       "Pipeline(steps=[('minmax', MinMaxScaler()), ('lr', LogisticRegression())])"
      ]
     },
     "execution_count": 22,
     "metadata": {},
     "output_type": "execute_result"
    }
   ],
   "source": [
    "pipe_lr = Pipeline([('minmax', MinMaxScaler()), ('lr', LogisticRegression())])\n",
    "pipe_lr.fit(X_train, y_train)"
   ]
  },
  {
   "cell_type": "code",
   "execution_count": 23,
   "id": "78a20614",
   "metadata": {},
   "outputs": [
    {
     "data": {
      "text/plain": [
       "0.9666666666666667"
      ]
     },
     "execution_count": 23,
     "metadata": {},
     "output_type": "execute_result"
    }
   ],
   "source": [
    "score = pipe_lr.score(X_test, y_test)\n",
    "score"
   ]
  },
  {
   "cell_type": "code",
   "execution_count": null,
   "id": "aa379953",
   "metadata": {},
   "outputs": [],
   "source": []
  }
 ],
 "metadata": {
  "kernelspec": {
   "display_name": "Python 3",
   "language": "python",
   "name": "python3"
  },
  "language_info": {
   "codemirror_mode": {
    "name": "ipython",
    "version": 3
   },
   "file_extension": ".py",
   "mimetype": "text/x-python",
   "name": "python",
   "nbconvert_exporter": "python",
   "pygments_lexer": "ipython3",
   "version": "3.8.8"
  }
 },
 "nbformat": 4,
 "nbformat_minor": 5
}
