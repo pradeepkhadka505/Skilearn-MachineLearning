{
 "cells": [
  {
   "cell_type": "markdown",
   "id": "0433737c",
   "metadata": {},
   "source": [
    "### Import some use full built in methods provide by sklearn"
   ]
  },
  {
   "cell_type": "code",
   "execution_count": 1,
   "id": "2ed607fd",
   "metadata": {},
   "outputs": [],
   "source": [
    "import sklearn\n",
    "from sklearn.ensemble import RandomForestClassifier"
   ]
  },
  {
   "cell_type": "markdown",
   "id": "e170c8a4",
   "metadata": {},
   "source": [
    "### Load Iris datasets povided by scikit learn"
   ]
  },
  {
   "cell_type": "code",
   "execution_count": 3,
   "id": "af4ab2ba",
   "metadata": {},
   "outputs": [],
   "source": [
    "from sklearn.datasets import load_iris\n",
    "iris = load_iris()"
   ]
  },
  {
   "cell_type": "code",
   "execution_count": 4,
   "id": "099a6e1f",
   "metadata": {},
   "outputs": [],
   "source": [
    "from sklearn.model_selection import train_test_split"
   ]
  },
  {
   "cell_type": "code",
   "execution_count": null,
   "id": "583c4966",
   "metadata": {},
   "outputs": [],
   "source": [
    "X_train,X_test, y_train,y_test "
   ]
  }
 ],
 "metadata": {
  "kernelspec": {
   "display_name": "Python 3",
   "language": "python",
   "name": "python3"
  },
  "language_info": {
   "codemirror_mode": {
    "name": "ipython",
    "version": 3
   },
   "file_extension": ".py",
   "mimetype": "text/x-python",
   "name": "python",
   "nbconvert_exporter": "python",
   "pygments_lexer": "ipython3",
   "version": "3.8.8"
  }
 },
 "nbformat": 4,
 "nbformat_minor": 5
}
