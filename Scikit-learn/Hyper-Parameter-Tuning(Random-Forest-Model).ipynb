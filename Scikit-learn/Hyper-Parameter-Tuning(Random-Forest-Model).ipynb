{
 "cells": [
  {
   "cell_type": "markdown",
   "id": "fb9db43b",
   "metadata": {},
   "source": [
    "### Import some use full built in methods provide by sklearn"
   ]
  },
  {
   "cell_type": "code",
   "execution_count": 1,
   "id": "d0b7e037",
   "metadata": {},
   "outputs": [],
   "source": [
    "import sklearn\n",
    "from sklearn.ensemble import RandomForestClassifier"
   ]
  },
  {
   "cell_type": "markdown",
   "id": "511a41fe",
   "metadata": {},
   "source": [
    "### Load Iris datasets povided by scikit learn"
   ]
  },
  {
   "cell_type": "code",
   "execution_count": 3,
   "id": "ae72a152",
   "metadata": {},
   "outputs": [],
   "source": [
    "from sklearn.datasets import load_iris\n",
    "iris = load_iris()"
   ]
  },
  {
   "cell_type": "code",
   "execution_count": 4,
   "id": "b6ae340d",
   "metadata": {},
   "outputs": [],
   "source": [
    "from sklearn.model_selection import train_test_split"
   ]
  },
  {
   "cell_type": "code",
   "execution_count": 5,
   "id": "28dd28c5",
   "metadata": {},
   "outputs": [],
   "source": [
    "X_train,X_test, y_train,y_test = train_test_split(iris.data, iris.target, test_size=0.2, random_state=30)"
   ]
  },
  {
   "cell_type": "code",
   "execution_count": 6,
   "id": "7bbd7ef0",
   "metadata": {},
   "outputs": [],
   "source": [
    "#Classifications \n",
    "clf= RandomForestClassifier(n_estimators=2, min_samples_split=3, min_samples_leaf=2)\n"
   ]
  },
  {
   "cell_type": "code",
   "execution_count": 7,
   "id": "4e77a499",
   "metadata": {},
   "outputs": [
    {
     "data": {
      "text/plain": [
       "RandomForestClassifier(min_samples_leaf=2, min_samples_split=3, n_estimators=2)"
      ]
     },
     "execution_count": 7,
     "metadata": {},
     "output_type": "execute_result"
    }
   ],
   "source": [
    "clf.fit(X_train,y_train)"
   ]
  },
  {
   "cell_type": "code",
   "execution_count": 8,
   "id": "d14b20d4",
   "metadata": {},
   "outputs": [
    {
     "data": {
      "text/plain": [
       "0.9"
      ]
     },
     "execution_count": 8,
     "metadata": {},
     "output_type": "execute_result"
    }
   ],
   "source": [
    "pred_clf= clf.predict(X_test)\n",
    "sklearn.metrics.accuracy_score(y_test,pred_clf)"
   ]
  },
  {
   "cell_type": "markdown",
   "id": "e22e343c",
   "metadata": {},
   "source": [
    " ## For Improve accuracy use GridSearch"
   ]
  },
  {
   "cell_type": "code",
   "execution_count": 19,
   "id": "2ee997f9",
   "metadata": {},
   "outputs": [],
   "source": [
    "from sklearn.model_selection import GridSearchCV\n",
    "\n",
    "param_grid= {'n_estimators':[2,5,10,20], 'min_samples_split':[2,3],\n",
    "            'min_samples_leaf':[1,2,3]}"
   ]
  },
  {
   "cell_type": "code",
   "execution_count": 14,
   "id": "1bf33515",
   "metadata": {},
   "outputs": [
    {
     "data": {
      "text/plain": [
       "GridSearchCV(estimator=RandomForestClassifier(min_samples_leaf=2,\n",
       "                                              min_samples_split=3,\n",
       "                                              n_estimators=2),\n",
       "             param_grid={'min_samples_leaf': [1, 2, 3],\n",
       "                         'min_samples_split': [2, 3],\n",
       "                         'n_estimators': [2, 5, 10, 20]})"
      ]
     },
     "execution_count": 14,
     "metadata": {},
     "output_type": "execute_result"
    }
   ],
   "source": [
    "grid_search= GridSearchCV(estimator = clf,param_grid = param_grid)\n",
    "grid_search.fit(X_train, y_train)"
   ]
  },
  {
   "cell_type": "code",
   "execution_count": 15,
   "id": "34157216",
   "metadata": {},
   "outputs": [
    {
     "data": {
      "text/plain": [
       "{'min_samples_leaf': 1, 'min_samples_split': 3, 'n_estimators': 5}"
      ]
     },
     "execution_count": 15,
     "metadata": {},
     "output_type": "execute_result"
    }
   ],
   "source": [
    "grid_search.best_params_"
   ]
  },
  {
   "cell_type": "code",
   "execution_count": 16,
   "id": "3b00cf75",
   "metadata": {},
   "outputs": [],
   "source": [
    "import sklearn\n",
    "from sklearn.ensemble import RandomForestClassifier\n",
    "from sklearn.datasets import load_iris\n",
    "iris = load_iris()\n",
    "from sklearn.model_selection import train_test_split\n",
    "X_train,X_test, y_train,y_test = train_test_split(iris.data, iris.target, test_size=0.2, random_state=30)\n",
    "#Classifications \n",
    "clf= RandomForestClassifier(n_estimators=5, min_samples_split=2, min_samples_leaf=1)"
   ]
  },
  {
   "cell_type": "code",
   "execution_count": 17,
   "id": "0d8621a6",
   "metadata": {},
   "outputs": [
    {
     "data": {
      "text/plain": [
       "RandomForestClassifier(n_estimators=5)"
      ]
     },
     "execution_count": 17,
     "metadata": {},
     "output_type": "execute_result"
    }
   ],
   "source": [
    "clf.fit(X_train, y_train)"
   ]
  },
  {
   "cell_type": "code",
   "execution_count": 18,
   "id": "4eacbcb4",
   "metadata": {},
   "outputs": [
    {
     "data": {
      "text/plain": [
       "0.9333333333333333"
      ]
     },
     "execution_count": 18,
     "metadata": {},
     "output_type": "execute_result"
    }
   ],
   "source": [
    "pred_clf = clf.predict(X_test)\n",
    "\n",
    "sklearn.metrics.accuracy_score(y_test, pred_clf)"
   ]
  },
  {
   "cell_type": "code",
   "execution_count": null,
   "id": "c520dd56",
   "metadata": {},
   "outputs": [],
   "source": []
  }
 ],
 "metadata": {
  "kernelspec": {
   "display_name": "Python 3",
   "language": "python",
   "name": "python3"
  },
  "language_info": {
   "codemirror_mode": {
    "name": "ipython",
    "version": 3
   },
   "file_extension": ".py",
   "mimetype": "text/x-python",
   "name": "python",
   "nbconvert_exporter": "python",
   "pygments_lexer": "ipython3",
   "version": "3.8.8"
  }
 },
 "nbformat": 4,
 "nbformat_minor": 5
}
