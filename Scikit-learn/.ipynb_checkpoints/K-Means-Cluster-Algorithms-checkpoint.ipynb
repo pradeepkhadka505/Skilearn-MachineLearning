{
 "cells": [
  {
   "cell_type": "markdown",
   "id": "7f126e1c",
   "metadata": {},
   "source": [
    "### Step 1: Importing essentials libraries for Kmeans cluster"
   ]
  },
  {
   "cell_type": "code",
   "execution_count": 2,
   "id": "dda24df8",
   "metadata": {},
   "outputs": [],
   "source": [
    "#for data visualizations\n",
    "import matplotlib.pyplot as plt\n",
    "#for numerical data \n",
    "import numpy as np\n",
    "#for data framming large datasets\n",
    "import pandas as pd\n",
    "#to access machine learnig algorithms\n",
    "import sklearn"
   ]
  },
  {
   "cell_type": "code",
   "execution_count": 3,
   "id": "ff05ee16",
   "metadata": {},
   "outputs": [],
   "source": [
    "from sklearn.cluster import KMeans"
   ]
  },
  {
   "cell_type": "code",
   "execution_count": null,
   "id": "8279638b",
   "metadata": {},
   "outputs": [],
   "source": [
    "#Prepare the data \n",
    "\n"
   ]
  }
 ],
 "metadata": {
  "kernelspec": {
   "display_name": "Python 3",
   "language": "python",
   "name": "python3"
  },
  "language_info": {
   "codemirror_mode": {
    "name": "ipython",
    "version": 3
   },
   "file_extension": ".py",
   "mimetype": "text/x-python",
   "name": "python",
   "nbconvert_exporter": "python",
   "pygments_lexer": "ipython3",
   "version": "3.8.8"
  }
 },
 "nbformat": 4,
 "nbformat_minor": 5
}
